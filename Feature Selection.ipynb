{
 "cells": [
  {
   "cell_type": "markdown",
   "metadata": {},
   "source": [
    "# Feature Importance and Selection:"
   ]
  },
  {
   "cell_type": "code",
   "execution_count": 506,
   "metadata": {},
   "outputs": [],
   "source": [
    "import numpy as np\n",
    "import mltools as ml\n",
    "import matplotlib.pyplot as plt\n",
    "import sklearn.feature_selection as featureSel\n",
    "from sklearn.metrics import roc_auc_score\n",
    "from sklearn.metrics import mean_squared_error\n",
    "\n",
    "from sklearn.linear_model import Ridge\n",
    "from sklearn.preprocessing import PolynomialFeatures\n",
    "from sklearn.pipeline import make_pipeline\n",
    "from sklearn import linear_model\n",
    "from sklearn import decomposition"
   ]
  },
  {
   "cell_type": "code",
   "execution_count": 3,
   "metadata": {
    "collapsed": true
   },
   "outputs": [],
   "source": [
    "X = np.genfromtxt('data/X_train.txt', delimiter=None)\n",
    "Y = np.genfromtxt('data/Y_train.txt', delimiter=None)\n",
    "X,Y = ml.shuffleData(X,Y)"
   ]
  },
  {
   "cell_type": "code",
   "execution_count": 9,
   "metadata": {
    "collapsed": true
   },
   "outputs": [],
   "source": [
    "Xtr, Xva, Ytr, Yva = ml.splitData(X, Y)\n",
    "Xt, Yt = Xtr[:20000], Ytr[:20000] # subsample for efficiency (you can go higher)\n",
    "Xnt, Ynt = Xtr[20000:], Ytr[20000:] # subsample for efficiency (you can go higher)"
   ]
  },
  {
   "cell_type": "markdown",
   "metadata": {},
   "source": [
    "For simplifying the purpose of selecting features, we only do a held out validation rather than cross-validation.\n",
    "Cross-validation is done at a later phase when the analysis is done."
   ]
  },
  {
   "cell_type": "markdown",
   "metadata": {},
   "source": [
    "# Removing features with low variance"
   ]
  },
  {
   "cell_type": "markdown",
   "metadata": {},
   "source": [
    "VarianceThreshold is a simple baseline approach to feature selection. It removes all features whose variance doesn’t meet some threshold. By default, it removes all zero-variance features, i.e. features that have the same value in all samples."
   ]
  },
  {
   "cell_type": "code",
   "execution_count": 43,
   "metadata": {},
   "outputs": [
    {
     "name": "stdout",
     "output_type": "stream",
     "text": [
      "[14, 14, 14, 14]\n"
     ]
    }
   ],
   "source": [
    "p_arr = [0.9,0.8,0.7,0.6]\n",
    "res_dim = len(p_arr)*[0]\n",
    "for i,p in enumerate(p_arr):\n",
    "    varSel = featureSel.VarianceThreshold(threshold=(p * (1 - p)))\n",
    "    X_transform = varSel.fit_transform(Xt)\n",
    "    res_dim[i] = X_transform.shape[1]\n",
    "\n",
    "print(res_dim)"
   ]
  },
  {
   "cell_type": "markdown",
   "metadata": {},
   "source": [
    "Here we observe that on a range of threshold values, all features seem to pass the threshold. Hence, no dimension reduction is performed based on this approach."
   ]
  },
  {
   "cell_type": "markdown",
   "metadata": {},
   "source": [
    "# Feature Importance - Random Forests"
   ]
  },
  {
   "cell_type": "markdown",
   "metadata": {},
   "source": [
    "Feature Importance: Importance/Significance of feature towards the end goal of classification/regression.\n",
    "\n",
    "Random forests are among the most popular machine learning methods because of their good accuracy and easy to use. They provide two straightforward methods for feature selection:\n",
    "1. Mean decrease impurity: Based on the information gain from a feature every tree is generated. Thus when training a tree, it can be computed how much each feature decreases the weighted impurity in a tree. For a forest, the impurity decrease from each feature can be averaged and the features are ranked according to this measure.\n",
    "2. Mean decrease accuracy: Direct measure of impact by each feature on accuracy. Idea is to permute the values of each feature and measure how much the permutation decreases the accuracy.\n",
    "\n",
    "Here, we use random forest classifier to compute the relative importance of each feature towards the classification."
   ]
  },
  {
   "cell_type": "code",
   "execution_count": 85,
   "metadata": {
    "collapsed": true
   },
   "outputs": [],
   "source": [
    "from sklearn.ensemble import RandomForestClassifier\n",
    "from sklearn.ensemble import RandomForestRegressor"
   ]
  },
  {
   "cell_type": "code",
   "execution_count": 144,
   "metadata": {},
   "outputs": [
    {
     "data": {
      "text/plain": [
       "RandomForestClassifier(bootstrap=True, class_weight=None, criterion='gini',\n",
       "            max_depth=20, max_features='auto', max_leaf_nodes=None,\n",
       "            min_impurity_decrease=0.0, min_impurity_split=None,\n",
       "            min_samples_leaf=1, min_samples_split=2,\n",
       "            min_weight_fraction_leaf=0.0, n_estimators=10, n_jobs=1,\n",
       "            oob_score=False, random_state=0, verbose=0, warm_start=False)"
      ]
     },
     "execution_count": 144,
     "metadata": {},
     "output_type": "execute_result"
    }
   ],
   "source": [
    "features = np.array(['Feature 1', 'Feature 2','Feature 3','Feature 4','Feature 5','Feature 6','Feature 7',\n",
    "                     'Feature 8', 'Feature 9','Feature 10','Feature 11','Feature 12','Feature 13','Feature 14'])\n",
    "clf = RandomForestClassifier(max_depth=20, random_state=0)\n",
    "clf.fit(Xt, Yt)"
   ]
  },
  {
   "cell_type": "code",
   "execution_count": 145,
   "metadata": {
    "collapsed": true
   },
   "outputs": [],
   "source": [
    "importances = clf.feature_importances_\n",
    "sorted_idx = np.argsort(importances)"
   ]
  },
  {
   "cell_type": "code",
   "execution_count": 146,
   "metadata": {},
   "outputs": [
    {
     "data": {
      "image/png": "[encoded data removed]",
      "text/plain": [
       "<matplotlib.figure.Figure at 0x11cc749b0>"
      ]
     },
     "metadata": {},
     "output_type": "display_data"
    }
   ],
   "source": [
    "padding = np.arange(len(features)) + 0.5\n",
    "plt.barh(padding, importances[sorted_idx], align='center')\n",
    "plt.yticks(padding, features[sorted_idx])\n",
    "plt.xlabel(\"Relative Importance\")\n",
    "plt.title(\"Variable Importance\")\n",
    "plt.show()"
   ]
  },
  {
   "cell_type": "markdown",
   "metadata": {},
   "source": [
    "Observations: \n",
    "1. Feature 7 seems to be very less contributing towards the overall classification. \n",
    "2. Feature 1 seems to influence more than other features.\n",
    "3. All other features contribute to some extent towards the classification.\n",
    "\n",
    "To get a greater idea, we explore these combinations and compare the MSE or AUC accuracies for these models."
   ]
  },
  {
   "cell_type": "markdown",
   "metadata": {},
   "source": [
    "## Testing Feature 7 removal: Random Forests - Training data set: 20,000 (10%)"
   ]
  },
  {
   "cell_type": "markdown",
   "metadata": {},
   "source": [
    "## Least Influential feature- Before feature removal:"
   ]
  },
  {
   "cell_type": "code",
   "execution_count": 147,
   "metadata": {},
   "outputs": [
    {
     "data": {
      "text/plain": [
       "0.61055451954067308"
      ]
     },
     "execution_count": 147,
     "metadata": {},
     "output_type": "execute_result"
    }
   ],
   "source": [
    "predictions = clf.predict(Xva)\n",
    "roc_auc_score(Yva, predictions)"
   ]
  },
  {
   "cell_type": "markdown",
   "metadata": {},
   "source": [
    "## Least Influential feature- After feature removal:\n"
   ]
  },
  {
   "cell_type": "code",
   "execution_count": 142,
   "metadata": {},
   "outputs": [
    {
     "data": {
      "text/plain": [
       "RandomForestClassifier(bootstrap=True, class_weight=None, criterion='gini',\n",
       "            max_depth=20, max_features='auto', max_leaf_nodes=None,\n",
       "            min_impurity_decrease=0.0, min_impurity_split=None,\n",
       "            min_samples_leaf=1, min_samples_split=2,\n",
       "            min_weight_fraction_leaf=0.0, n_estimators=10, n_jobs=1,\n",
       "            oob_score=False, random_state=0, verbose=0, warm_start=False)"
      ]
     },
     "execution_count": 142,
     "metadata": {},
     "output_type": "execute_result"
    }
   ],
   "source": [
    "X_removedFeature = np.delete(Xt, [7], axis=1)\n",
    "Xva_removedFeature = np.delete(Xva, [7], axis=1)\n",
    "\n",
    "clf2 = RandomForestClassifier(max_depth=20, random_state=0)\n",
    "clf2.fit(X_removedFeature, Yt)"
   ]
  },
  {
   "cell_type": "code",
   "execution_count": 143,
   "metadata": {},
   "outputs": [
    {
     "data": {
      "text/plain": [
       "0.61074784551386874"
      ]
     },
     "execution_count": 143,
     "metadata": {},
     "output_type": "execute_result"
    }
   ],
   "source": [
    "predictions2 = clf2.predict(Xva_removedFeature)\n",
    "roc_auc_score(Yva, predictions2)"
   ]
  },
  {
   "cell_type": "markdown",
   "metadata": {},
   "source": [
    "Here, we observe that AUC has increased. This might be due to the sampled validation partition of the data.\n",
    "But, nevertheless the AUC has not decreased dramatically which proves less significance of Feature 7."
   ]
  },
  {
   "cell_type": "markdown",
   "metadata": {},
   "source": [
    "## Most Influential feature- After feature removal:"
   ]
  },
  {
   "cell_type": "code",
   "execution_count": 140,
   "metadata": {},
   "outputs": [
    {
     "data": {
      "text/plain": [
       "RandomForestClassifier(bootstrap=True, class_weight=None, criterion='gini',\n",
       "            max_depth=20, max_features='auto', max_leaf_nodes=None,\n",
       "            min_impurity_decrease=0.0, min_impurity_split=None,\n",
       "            min_samples_leaf=1, min_samples_split=2,\n",
       "            min_weight_fraction_leaf=0.0, n_estimators=10, n_jobs=1,\n",
       "            oob_score=False, random_state=0, verbose=0, warm_start=False)"
      ]
     },
     "execution_count": 140,
     "metadata": {},
     "output_type": "execute_result"
    }
   ],
   "source": [
    "X_sig_removedFeature = np.delete(Xt, [1], axis=1)\n",
    "Xva_sig_removedFeature = np.delete(Xva, [1], axis=1)\n",
    "\n",
    "clf3 = RandomForestClassifier(max_depth=20, random_state=0)\n",
    "clf3.fit(X_sig_removedFeature, Yt)"
   ]
  },
  {
   "cell_type": "code",
   "execution_count": 141,
   "metadata": {},
   "outputs": [
    {
     "data": {
      "text/plain": [
       "0.60955984729155188"
      ]
     },
     "execution_count": 141,
     "metadata": {},
     "output_type": "execute_result"
    }
   ],
   "source": [
    "predictions3 = clf3.predict(Xva_sig_removedFeature)\n",
    "roc_auc_score(Yva, predictions3)"
   ]
  },
  {
   "cell_type": "markdown",
   "metadata": {},
   "source": [
    "Here, we observe that AUC has decreased - Just as per our understanding from learning feature importance!"
   ]
  },
  {
   "cell_type": "markdown",
   "metadata": {},
   "source": [
    "# Exploring Regression- Random Forests:"
   ]
  },
  {
   "cell_type": "markdown",
   "metadata": {},
   "source": [
    "Since, classification into 2 classes strictly, is not desired in our case:\n",
    "We need to only predict the probability of rainfall.\n",
    "\n",
    "Therefore, using regression would not be a bad idea. Random Forest Regression and Linear/Polynomial regression is done to evaluate the above mentioned feature importance."
   ]
  },
  {
   "cell_type": "markdown",
   "metadata": {},
   "source": [
    "## Original Feature Space (with all 14 dimensions):"
   ]
  },
  {
   "cell_type": "code",
   "execution_count": 236,
   "metadata": {},
   "outputs": [
    {
     "data": {
      "text/plain": [
       "RandomForestRegressor(bootstrap=True, criterion='mse', max_depth=10,\n",
       "           max_features='auto', max_leaf_nodes=None,\n",
       "           min_impurity_decrease=0.0, min_impurity_split=None,\n",
       "           min_samples_leaf=1, min_samples_split=2,\n",
       "           min_weight_fraction_leaf=0.0, n_estimators=10, n_jobs=1,\n",
       "           oob_score=False, random_state=0, verbose=0, warm_start=False)"
      ]
     },
     "execution_count": 236,
     "metadata": {},
     "output_type": "execute_result"
    }
   ],
   "source": [
    "reg = RandomForestRegressor(max_depth = 10, random_state=0)\n",
    "reg.fit(Xt, Yt)"
   ]
  },
  {
   "cell_type": "code",
   "execution_count": 237,
   "metadata": {},
   "outputs": [
    {
     "name": "stdout",
     "output_type": "stream",
     "text": [
      "AUC: 0.672215238387\n",
      "MSE: 0.205323895777\n"
     ]
    }
   ],
   "source": [
    "appxs = reg.predict(Xva)\n",
    "print(\"AUC: \" + str(roc_auc_score(Yva, appxs)))\n",
    "print(\"MSE: \" + str(mean_squared_error(Yva, appxs)))"
   ]
  },
  {
   "cell_type": "code",
   "execution_count": 203,
   "metadata": {
    "collapsed": true
   },
   "outputs": [],
   "source": [
    "importances = reg.feature_importances_\n",
    "sorted_idx = np.argsort(importances)"
   ]
  },
  {
   "cell_type": "code",
   "execution_count": 204,
   "metadata": {},
   "outputs": [
    {
     "data": {
      "image/png": "[encoded data removed]",
      "text/plain": [
       "<matplotlib.figure.Figure at 0x112ed5cf8>"
      ]
     },
     "metadata": {},
     "output_type": "display_data"
    }
   ],
   "source": [
    "padding = np.arange(len(features)) + 0.5\n",
    "plt.barh(padding, importances[sorted_idx], align='center')\n",
    "plt.yticks(padding, features[sorted_idx])\n",
    "plt.xlabel(\"Relative Importance\")\n",
    "plt.title(\"Variable Importance\")\n",
    "plt.show()"
   ]
  },
  {
   "cell_type": "markdown",
   "metadata": {},
   "source": [
    "Similar to Random Forrest Classifier based approach for feature importance, feature importance can be calculated in case of a forest regrssor also. The above graph details the results.\n",
    "Observation: The results are consistent with results of Random Forest Classifier.\n"
   ]
  },
  {
   "cell_type": "markdown",
   "metadata": {},
   "source": [
    "## Least Influential feature- After feature removal:"
   ]
  },
  {
   "cell_type": "code",
   "execution_count": 184,
   "metadata": {},
   "outputs": [
    {
     "data": {
      "text/plain": [
       "RandomForestRegressor(bootstrap=True, criterion='mse', max_depth=10,\n",
       "           max_features='auto', max_leaf_nodes=None,\n",
       "           min_impurity_decrease=0.0, min_impurity_split=None,\n",
       "           min_samples_leaf=1, min_samples_split=2,\n",
       "           min_weight_fraction_leaf=0.0, n_estimators=10, n_jobs=1,\n",
       "           oob_score=False, random_state=0, verbose=0, warm_start=False)"
      ]
     },
     "execution_count": 184,
     "metadata": {},
     "output_type": "execute_result"
    }
   ],
   "source": [
    "reg2 = RandomForestRegressor(max_depth=10, random_state=0)\n",
    "reg2.fit(X_removedFeature, Yt)"
   ]
  },
  {
   "cell_type": "code",
   "execution_count": 205,
   "metadata": {},
   "outputs": [
    {
     "name": "stdout",
     "output_type": "stream",
     "text": [
      "AUC: 0.669431916909\n",
      "MSE: 0.205728585462\n"
     ]
    }
   ],
   "source": [
    "appxs2 = reg2.predict(Xva_removedFeature)\n",
    "print(\"AUC: \" + str(roc_auc_score(Yva, appxs2)))\n",
    "print(\"MSE: \" + str(mean_squared_error(Yva, appxs2)))"
   ]
  },
  {
   "cell_type": "markdown",
   "metadata": {},
   "source": [
    "## Highest Influential feature- After feature removal:"
   ]
  },
  {
   "cell_type": "code",
   "execution_count": 181,
   "metadata": {},
   "outputs": [
    {
     "data": {
      "text/plain": [
       "RandomForestRegressor(bootstrap=True, criterion='mse', max_depth=10,\n",
       "           max_features='auto', max_leaf_nodes=None,\n",
       "           min_impurity_decrease=0.0, min_impurity_split=None,\n",
       "           min_samples_leaf=1, min_samples_split=2,\n",
       "           min_weight_fraction_leaf=0.0, n_estimators=10, n_jobs=1,\n",
       "           oob_score=False, random_state=0, verbose=0, warm_start=False)"
      ]
     },
     "execution_count": 181,
     "metadata": {},
     "output_type": "execute_result"
    }
   ],
   "source": [
    "reg3 = RandomForestRegressor(max_depth=10, random_state=0)\n",
    "reg3.fit(X_sig_removedFeature, Yt)"
   ]
  },
  {
   "cell_type": "code",
   "execution_count": 206,
   "metadata": {},
   "outputs": [
    {
     "name": "stdout",
     "output_type": "stream",
     "text": [
      "AUC: 0.671457758885\n",
      "MSE: 0.205440481453\n"
     ]
    }
   ],
   "source": [
    "appxs3 = reg3.predict(Xva_sig_removedFeature)\n",
    "print(\"AUC: \" + str(roc_auc_score(Yva, appxs3)))\n",
    "print(\"MSE: \" + str(mean_squared_error(Yva, appxs3)))"
   ]
  },
  {
   "cell_type": "markdown",
   "metadata": {},
   "source": [
    "Here we don't observe the results as in the case of classification! (low/high influential feature VS MSE/AUC)\n",
    "This might be because, for regression - all other features also play their part and hence influence result more.\n",
    "\n",
    "Let us compare the regression AUC and MSE for only Most influential and only Least influential feature now :)"
   ]
  },
  {
   "cell_type": "markdown",
   "metadata": {},
   "source": [
    "## Highest Influential feature Only:"
   ]
  },
  {
   "cell_type": "code",
   "execution_count": 231,
   "metadata": {},
   "outputs": [
    {
     "data": {
      "text/plain": [
       "RandomForestRegressor(bootstrap=True, criterion='mse', max_depth=10,\n",
       "           max_features='auto', max_leaf_nodes=None,\n",
       "           min_impurity_decrease=0.0, min_impurity_split=None,\n",
       "           min_samples_leaf=1, min_samples_split=2,\n",
       "           min_weight_fraction_leaf=0.0, n_estimators=10, n_jobs=1,\n",
       "           oob_score=False, random_state=0, verbose=0, warm_start=False)"
      ]
     },
     "execution_count": 231,
     "metadata": {},
     "output_type": "execute_result"
    }
   ],
   "source": [
    "reg4 = RandomForestRegressor(max_depth=10, random_state=0)\n",
    "reg4.fit(Xt[:,0:1], Yt)"
   ]
  },
  {
   "cell_type": "code",
   "execution_count": 232,
   "metadata": {},
   "outputs": [
    {
     "name": "stdout",
     "output_type": "stream",
     "text": [
      "AUC: 0.628102712491\n",
      "MSE: 0.215221822778\n"
     ]
    }
   ],
   "source": [
    "appxs4 = reg4.predict(Xva[:,0:1])\n",
    "print(\"AUC: \" + str(roc_auc_score(Yva, appxs4)))\n",
    "print(\"MSE: \" + str(mean_squared_error(Yva, appxs4)))"
   ]
  },
  {
   "cell_type": "markdown",
   "metadata": {},
   "source": [
    "## Least Influential feature Only:"
   ]
  },
  {
   "cell_type": "code",
   "execution_count": 226,
   "metadata": {},
   "outputs": [
    {
     "data": {
      "text/plain": [
       "RandomForestRegressor(bootstrap=True, criterion='mse', max_depth=10,\n",
       "           max_features='auto', max_leaf_nodes=None,\n",
       "           min_impurity_decrease=0.0, min_impurity_split=None,\n",
       "           min_samples_leaf=1, min_samples_split=2,\n",
       "           min_weight_fraction_leaf=0.0, n_estimators=10, n_jobs=1,\n",
       "           oob_score=False, random_state=0, verbose=0, warm_start=False)"
      ]
     },
     "execution_count": 226,
     "metadata": {},
     "output_type": "execute_result"
    }
   ],
   "source": [
    "reg5 = RandomForestRegressor(max_depth=10, random_state=0)\n",
    "reg5.fit(Xt[:,6:7], Yt)"
   ]
  },
  {
   "cell_type": "code",
   "execution_count": 227,
   "metadata": {},
   "outputs": [
    {
     "name": "stdout",
     "output_type": "stream",
     "text": [
      "AUC: 0.479493541985\n",
      "MSE: 0.250831635573\n"
     ]
    }
   ],
   "source": [
    "appxs5 = reg5.predict(Xva[:,0:1])\n",
    "print(\"AUC: \" + str(roc_auc_score(Yva, appxs5)))\n",
    "print(\"MSE: \" + str(mean_squared_error(Yva, appxs5)))"
   ]
  },
  {
   "cell_type": "markdown",
   "metadata": {},
   "source": [
    "Here, we can clearly observe that, least influential feature when considered for AUC has less than 0.5 and hence is making no contribution to the overall regression."
   ]
  },
  {
   "cell_type": "markdown",
   "metadata": {},
   "source": [
    "We can also see that most influential feature has AUC comparabale to that of all features! \n",
    "This fact can be used for exploration of using only 1 most influential feature for regression (used for classification though) for regressors with proper modelling other than random forests (beacuase of their immunity towards feature importance)."
   ]
  },
  {
   "cell_type": "markdown",
   "metadata": {},
   "source": [
    "# Linear Regression"
   ]
  },
  {
   "cell_type": "markdown",
   "metadata": {},
   "source": [
    "Since forests are immune to feature selection, we now explore it's effect on Linear regressor."
   ]
  },
  {
   "cell_type": "code",
   "execution_count": 282,
   "metadata": {
    "collapsed": true
   },
   "outputs": [],
   "source": [
    "# Rescale\n",
    "XtS, params = ml.rescale(Xt) # Normalize the features\n",
    "XvS, _ = ml.rescale(Xva, params) # Normalize the features"
   ]
  },
  {
   "cell_type": "markdown",
   "metadata": {},
   "source": [
    "## Original Feature Space"
   ]
  },
  {
   "cell_type": "code",
   "execution_count": 302,
   "metadata": {},
   "outputs": [
    {
     "name": "stdout",
     "output_type": "stream",
     "text": [
      "AUC: 0.669752488935\n",
      "MSE: 0.205709808436\n"
     ]
    }
   ],
   "source": [
    "lr = make_pipeline(PolynomialFeatures(2), Ridge())\n",
    "lr.fit(Xt,Yt)\n",
    "lr_prob = lr.predict( Xva ) # make predictions at xs\n",
    "print(\"AUC: \" + str(roc_auc_score(Yva, lr_prob)))\n",
    "print(\"MSE: \" + str(mean_squared_error(Yva, lr_prob)))"
   ]
  },
  {
   "cell_type": "markdown",
   "metadata": {},
   "source": [
    "Here, the chosen degree - 2, is based on local search on range (1,5) which gives out a better AUC."
   ]
  },
  {
   "cell_type": "markdown",
   "metadata": {},
   "source": [
    "## Least Influential feature only:"
   ]
  },
  {
   "cell_type": "code",
   "execution_count": 284,
   "metadata": {},
   "outputs": [
    {
     "name": "stdout",
     "output_type": "stream",
     "text": [
      "AUC: 0.524373775208\n",
      "MSE: 0.225620489899\n"
     ]
    }
   ],
   "source": [
    "lr2 = make_pipeline(PolynomialFeatures(1), Ridge())\n",
    "lr2.fit( XtS[:,6:7], Yt )\n",
    "lr2_prob = lr2.predict( XvS[:,6:7] ) # make predictions at xs\n",
    "print(\"AUC: \" + str(roc_auc_score(Yva, lr2_prob)))\n",
    "print(\"MSE: \" + str(mean_squared_error(Yva, lr2_prob)))"
   ]
  },
  {
   "cell_type": "markdown",
   "metadata": {},
   "source": [
    "Here, we can clearly observe that picking this feature alone will decrease the performance drastically. "
   ]
  },
  {
   "cell_type": "markdown",
   "metadata": {},
   "source": [
    "## Highest Influential feature only:"
   ]
  },
  {
   "cell_type": "code",
   "execution_count": 285,
   "metadata": {},
   "outputs": [
    {
     "name": "stdout",
     "output_type": "stream",
     "text": [
      "AUC: 0.633878813268\n",
      "MSE: 0.214234886932\n"
     ]
    }
   ],
   "source": [
    "lr3 = make_pipeline(PolynomialFeatures(1), Ridge())\n",
    "lr3.fit( XtS[:,0:1], Yt )\n",
    "lr3_prob = lr3.predict( XvS[:,0:1] ) # make predictions at xs\n",
    "print(\"AUC: \" + str(roc_auc_score(Yva, lr3_prob)))\n",
    "print(\"MSE: \" + str(mean_squared_error(Yva, lr3_prob)))"
   ]
  },
  {
   "cell_type": "markdown",
   "metadata": {},
   "source": [
    "Here, picking only 1 out 14 dimensions lead to comparable performance with respect to original feature space.\n",
    "Therefore this feature can be considered as most influential - just as proved in Random Forests!"
   ]
  },
  {
   "cell_type": "markdown",
   "metadata": {},
   "source": [
    "Also, there might be feature correlation for features other than feature 1(most influential) feature 7(least influential). We continue our study further by feature correlation and PCA - dimensionality reduction.\n",
    "\n",
    "From this discussion we conclude that all features are not required for contribution towards the classification problem at hand. Therefore, the 14 dimensional space can definitely be reduced to smaller dimension."
   ]
  },
  {
   "cell_type": "markdown",
   "metadata": {},
   "source": [
    "# PCA - Dimension reduction"
   ]
  },
  {
   "cell_type": "markdown",
   "metadata": {},
   "source": [
    "Principal component analysis (PCA) is a statistical procedure that uses an orthogonal transformation to convert a set of observations of possibly correlated variables into a set of values of linearly uncorrelated variables called principal components.\n",
    "\n",
    "PCA is done on our dataset to retrieve principal components and the singular/eigen values. These values can therefore determine the effective number of dimension/features enough for future purpose of classification/regression."
   ]
  },
  {
   "cell_type": "code",
   "execution_count": 342,
   "metadata": {},
   "outputs": [
    {
     "data": {
      "text/plain": [
       "PCA(copy=True, iterated_power='auto', n_components=14, random_state=None,\n",
       "  svd_solver='auto', tol=0.0, whiten=False)"
      ]
     },
     "execution_count": 342,
     "metadata": {},
     "output_type": "execute_result"
    }
   ],
   "source": [
    "pca = decomposition.PCA(n_components=14)\n",
    "pca.fit(Xt)"
   ]
  },
  {
   "cell_type": "code",
   "execution_count": 348,
   "metadata": {},
   "outputs": [
    {
     "data": {
      "image/png": "[encoded data removed]",
      "text/plain": [
       "<matplotlib.figure.Figure at 0x11be26128>"
      ]
     },
     "metadata": {},
     "output_type": "display_data"
    }
   ],
   "source": [
    "features = np.array(['PC 1', 'PC 2','PC 3','PC 4','PC 5','PC 6','PC 7',\n",
    "                     'PC 8', 'PC 9','PC 10','PC 11','PC12','PC 13', 'PC 14'])\n",
    "importances = pca.singular_values_\n",
    "sorted_idx = np.argsort(importances)\n",
    "padding = np.arange(len(features)) + 0.5\n",
    "plt.barh(padding, importances[sorted_idx], align='center')\n",
    "plt.yticks(padding, features[sorted_idx])\n",
    "plt.xlabel(\"Singular Values\")\n",
    "plt.title(\"PCA\")\n",
    "plt.show()"
   ]
  },
  {
   "cell_type": "markdown",
   "metadata": {},
   "source": [
    "Here we observe that top 3 or 4 principal components have high significance than the others!\n",
    "We'll continue on feature correlation to confirm this phenomenon and later use top 3/4 principal directions for classifier tuning."
   ]
  },
  {
   "cell_type": "markdown",
   "metadata": {},
   "source": [
    "# Feature Correlation"
   ]
  },
  {
   "cell_type": "markdown",
   "metadata": {},
   "source": [
    "To observe the extent of inter-feature correlation, Correlation coefficients for each pair of features is computed and a matrix plot is made.\n",
    "\n",
    "We use Pearson correlation coefficient measures - the linear relationship between two datasets. Like other correlation coefficients, this one varies between -1 and +1 with 0 implying no correlation. Correlations of -1 or +1 imply an exact linear relationship.\n",
    "\n",
    "Along with these coefficients, a p-value roughly indicates the probability of an uncorrelated system producing datasets that have a Pearson correlation at least as extreme as the one computed from these datasets."
   ]
  },
  {
   "cell_type": "code",
   "execution_count": 444,
   "metadata": {},
   "outputs": [
    {
     "data": {
      "image/png": "[encoded data removed]",
      "text/plain": [
       "<matplotlib.figure.Figure at 0x1215c8cc0>"
      ]
     },
     "metadata": {},
     "output_type": "display_data"
    }
   ],
   "source": [
    "corr_coeff_mat = np.zeros((14,14))\n",
    "from scipy import stats\n",
    "for i in range(0,Xt.shape[1],1): \n",
    "    for j in range(0, Xt.shape[1],1):\n",
    "        corr_coeff_mat[i][j]=(1-stats.pearsonr(Xt[:,i:i+1], Xt[:,j:j+1])[1])\n",
    "\n",
    "        \n",
    "f, ax = plt.subplots(1, 1, figsize=(10, 5))\n",
    "cax = ax.matshow(corr_coeff_mat, interpolation='nearest', extent=[0, 14, 14, 0])\n",
    "f.colorbar(cax)\n",
    "ax.set_xticklabels(['']+list(range(0,14,1)),minor='true')\n",
    "ax.set_yticklabels(['']+list(range(0,14,1)),minor='true')\n",
    "ax.set_title('Correlation Coefficient(Probability)')\n",
    "plt.grid(True,which='both',color='0',linestyle='--')\n",
    "plt.show()"
   ]
  },
  {
   "cell_type": "markdown",
   "metadata": {},
   "source": [
    "Here, we can observe the correlation is very high among features.\n",
    "We conclude that many of the features have high correlation and hence not required for classification as they are redundant. As per the earlier PCA analysis top 3 to 4 features are unrelated which will be picked for further detailed study.\n",
    "This concludes our study on dimensionality reduction and feature engineering."
   ]
  },
  {
   "cell_type": "markdown",
   "metadata": {},
   "source": [
    "## Effect of PCA on Neural Network (MLFFNN):"
   ]
  },
  {
   "cell_type": "markdown",
   "metadata": {},
   "source": [
    "Transform Data to top 4 PCA dimensions:"
   ]
  },
  {
   "cell_type": "code",
   "execution_count": 493,
   "metadata": {
    "collapsed": true
   },
   "outputs": [],
   "source": [
    "pca = decomposition.PCA(n_components=4)\n",
    "Xt_red = pca.fit_transform(XtS)\n",
    "Xva_red = pca.fit_transform(XvS)"
   ]
  },
  {
   "cell_type": "code",
   "execution_count": 494,
   "metadata": {
    "collapsed": true
   },
   "outputs": [],
   "source": [
    "def AUC_NN(XtS, Yt, XvS, Yva, nodes_range, layers_range):\n",
    "    tr_auc = np.zeros(shape = (len(layers_range),len(nodes_range)))\n",
    "    va_auc = np.zeros(shape = (len(layers_range),len(nodes_range)))\n",
    "    \n",
    "    for i,nLayers in enumerate(layers_range):\n",
    "        for j,nNodes in enumerate(nodes_range):\n",
    "            nn = ml.nnet.nnetClassify()\n",
    "            \n",
    "            design_layers = [nNodes] * (nLayers + 2)\n",
    "            design_layers[0] = XtS.shape[1]\n",
    "            design_layers[len(design_layers)-1] = 2\n",
    "            \n",
    "            nn.init_weights(design_layers, 'random', XtS, Yt) # as many layers nodes you want\n",
    "            nn.train(XtS, Yt, stopTol=1e-8, stepsize=.25, stopIter=300)\n",
    "                        \n",
    "            tr_auc[i][j] = nn.auc(XtS, Yt)\n",
    "            va_auc[i][j] = nn.auc(XvS, Yva)\n",
    "    \n",
    "    return (tr_auc, va_auc)"
   ]
  },
  {
   "cell_type": "code",
   "execution_count": 505,
   "metadata": {
    "scrolled": true
   },
   "outputs": [
    {
     "name": "stdout",
     "output_type": "stream",
     "text": [
      "it 1 : Jsur = 0.4258623982422616, J01 = 0.3278\n",
      "it 2 : Jsur = 0.42085038510082723, J01 = 0.312\n",
      "it 4 : Jsur = 0.42108332625182865, J01 = 0.3094\n",
      "it 8 : Jsur = 0.4209881821209482, J01 = 0.309\n",
      "it 16 : Jsur = 0.4212942841870805, J01 = 0.3128\n",
      "it 32 : Jsur = 0.4220169845774556, J01 = 0.3136\n",
      "it 64 : Jsur = 0.4228719096605686, J01 = 0.3144\n",
      "it 128 : Jsur = 0.4233649077701035, J01 = 0.3134\n",
      "it 256 : Jsur = 0.42337137435094874, J01 = 0.3142\n",
      "it 1 : Jsur = 0.4272120799913409, J01 = 0.3168\n",
      "it 2 : Jsur = 0.425424266682482, J01 = 0.3164\n",
      "it 4 : Jsur = 0.42375226430357543, J01 = 0.3164\n",
      "it 8 : Jsur = 0.42124379760438313, J01 = 0.3148\n",
      "it 16 : Jsur = 0.41829214458500774, J01 = 0.3162\n",
      "it 32 : Jsur = 0.41436362001644794, J01 = 0.3112\n",
      "it 64 : Jsur = 0.41068727130412924, J01 = 0.305\n",
      "it 128 : Jsur = 0.41066644889105364, J01 = 0.3066\n",
      "it 256 : Jsur = 0.41144624653304, J01 = 0.308\n",
      "it 1 : Jsur = 0.4260948645861921, J01 = 0.3194\n",
      "it 2 : Jsur = 0.4247436966760005, J01 = 0.3254\n",
      "it 4 : Jsur = 0.4185239837051149, J01 = 0.3136\n",
      "it 8 : Jsur = 0.4151002720406006, J01 = 0.3066\n",
      "it 16 : Jsur = 0.41295385965927245, J01 = 0.3022\n",
      "it 32 : Jsur = 0.4107467497163723, J01 = 0.3006\n",
      "it 64 : Jsur = 0.4095356146958239, J01 = 0.3018\n",
      "it 128 : Jsur = 0.4089098299962982, J01 = 0.3\n",
      "it 256 : Jsur = 0.4086655900577759, J01 = 0.303\n",
      "it 1 : Jsur = 0.42516195315832045, J01 = 0.3192\n",
      "it 2 : Jsur = 0.4230538832796259, J01 = 0.3218\n",
      "it 4 : Jsur = 0.4185743513326874, J01 = 0.3114\n",
      "it 8 : Jsur = 0.4148617571449985, J01 = 0.3086\n",
      "it 16 : Jsur = 0.41281021227328873, J01 = 0.3036\n",
      "it 32 : Jsur = 0.4108079832612994, J01 = 0.3024\n",
      "it 64 : Jsur = 0.40953034865439636, J01 = 0.3034\n",
      "it 128 : Jsur = 0.4089139357881968, J01 = 0.302\n",
      "it 256 : Jsur = 0.40835701371271554, J01 = 0.3012\n",
      "it 1 : Jsur = 0.4251878321140923, J01 = 0.3188\n",
      "it 2 : Jsur = 0.4229612421162586, J01 = 0.3226\n",
      "it 4 : Jsur = 0.4194537385059295, J01 = 0.3142\n",
      "it 8 : Jsur = 0.4147964825075404, J01 = 0.31\n",
      "it 16 : Jsur = 0.41288928460705476, J01 = 0.303\n",
      "it 32 : Jsur = 0.4109823217376612, J01 = 0.3028\n",
      "it 64 : Jsur = 0.4095052890743311, J01 = 0.3028\n",
      "it 128 : Jsur = 0.40848607183320546, J01 = 0.3044\n",
      "it 256 : Jsur = 0.4070036940572929, J01 = 0.3018\n",
      "it 1 : Jsur = 0.42620244352105235, J01 = 0.3208\n",
      "it 2 : Jsur = 0.42370079088758555, J01 = 0.3258\n",
      "it 4 : Jsur = 0.4215454485885504, J01 = 0.3226\n",
      "it 8 : Jsur = 0.4151819306430983, J01 = 0.3114\n",
      "it 16 : Jsur = 0.41279374982079114, J01 = 0.3042\n",
      "it 32 : Jsur = 0.4109389944380553, J01 = 0.301\n",
      "it 64 : Jsur = 0.40937516591577117, J01 = 0.3014\n",
      "it 128 : Jsur = 0.40856323872986955, J01 = 0.302\n",
      "it 256 : Jsur = 0.4080297569815032, J01 = 0.3004\n",
      "it 1 : Jsur = 0.4451980097512065, J01 = 0.3334\n",
      "it 2 : Jsur = 0.4446446678288392, J01 = 0.3334\n",
      "it 4 : Jsur = 0.4444915529710398, J01 = 0.3334\n",
      "it 8 : Jsur = 0.44449262391982775, J01 = 0.3334\n",
      "it 16 : Jsur = 0.444489678592871, J01 = 0.3334\n",
      "it 1 : Jsur = 0.445198009678293, J01 = 0.3334\n",
      "it 2 : Jsur = 0.4446446675405837, J01 = 0.3334\n",
      "it 4 : Jsur = 0.4444915524594975, J01 = 0.3334\n",
      "it 8 : Jsur = 0.44449262293643405, J01 = 0.3334\n",
      "it 16 : Jsur = 0.444489676544569, J01 = 0.3334\n",
      "it 1 : Jsur = 0.4451979844109561, J01 = 0.3334\n",
      "it 2 : Jsur = 0.44464461257268084, J01 = 0.3334\n",
      "it 4 : Jsur = 0.4444913540445732, J01 = 0.3334\n",
      "it 8 : Jsur = 0.4444909415728542, J01 = 0.3334\n",
      "it 16 : Jsur = 0.4308186164501587, J01 = 0.3326\n",
      "it 32 : Jsur = 0.41446904473371704, J01 = 0.305\n",
      "it 64 : Jsur = 0.4124470701404079, J01 = 0.3046\n",
      "it 128 : Jsur = 0.410958217319353, J01 = 0.302\n",
      "it 256 : Jsur = 0.40822362835176546, J01 = 0.3018\n",
      "it 1 : Jsur = 0.44519800123137154, J01 = 0.3334\n",
      "it 2 : Jsur = 0.4446446500984903, J01 = 0.3334\n",
      "it 4 : Jsur = 0.44449150009519806, J01 = 0.3334\n",
      "it 8 : Jsur = 0.4444924058054581, J01 = 0.3334\n",
      "it 16 : Jsur = 0.444486874083974, J01 = 0.3334\n",
      "it 32 : Jsur = 0.4244820731125651, J01 = 0.3244\n",
      "it 64 : Jsur = 0.41323950551552097, J01 = 0.3048\n",
      "it 128 : Jsur = 0.4122582837845013, J01 = 0.3054\n",
      "it 256 : Jsur = 0.4102613254447996, J01 = 0.3002\n",
      "it 1 : Jsur = 0.4451979763257177, J01 = 0.3334\n",
      "it 2 : Jsur = 0.4446445857586292, J01 = 0.3334\n",
      "it 4 : Jsur = 0.44449118816303546, J01 = 0.3334\n",
      "it 8 : Jsur = 0.444485709419281, J01 = 0.3334\n",
      "it 16 : Jsur = 0.4220608632097761, J01 = 0.3194\n",
      "it 32 : Jsur = 0.4137939361782729, J01 = 0.3056\n",
      "it 64 : Jsur = 0.4126517217650578, J01 = 0.3046\n",
      "it 128 : Jsur = 0.4118152102444087, J01 = 0.306\n",
      "it 256 : Jsur = 0.4106280934677949, J01 = 0.3024\n",
      "it 1 : Jsur = 0.4451979269879022, J01 = 0.3334\n",
      "it 2 : Jsur = 0.44464438332094613, J01 = 0.3334\n",
      "it 4 : Jsur = 0.44448832743786, J01 = 0.3334\n",
      "it 8 : Jsur = 0.4286888832310328, J01 = 0.333\n",
      "it 16 : Jsur = 0.415833659538305, J01 = 0.3094\n",
      "it 32 : Jsur = 0.41370601530993645, J01 = 0.305\n",
      "it 64 : Jsur = 0.4127556940228207, J01 = 0.3072\n",
      "it 128 : Jsur = 0.4114436197384673, J01 = 0.3048\n",
      "it 256 : Jsur = 0.40918337903831586, J01 = 0.2984\n",
      "it 1 : Jsur = 0.44519800997785597, J01 = 0.3334\n",
      "it 2 : Jsur = 0.44464466791833784, J01 = 0.3334\n",
      "it 4 : Jsur = 0.44449155312223754, J01 = 0.3334\n",
      "it 8 : Jsur = 0.4444926241435257, J01 = 0.3334\n",
      "it 16 : Jsur = 0.44448967895702945, J01 = 0.3334\n",
      "it 1 : Jsur = 0.44519800973070706, J01 = 0.3334\n",
      "it 2 : Jsur = 0.44464466794845137, J01 = 0.3334\n",
      "it 4 : Jsur = 0.44449155314202254, J01 = 0.3334\n",
      "it 8 : Jsur = 0.4444926241454155, J01 = 0.3334\n",
      "it 16 : Jsur = 0.4444896789569073, J01 = 0.3334\n",
      "it 1 : Jsur = 0.4451980101993088, J01 = 0.3334\n",
      "it 2 : Jsur = 0.4446446679605825, J01 = 0.3334\n",
      "it 4 : Jsur = 0.4444915531318171, J01 = 0.3334\n",
      "it 8 : Jsur = 0.44449262414391344, J01 = 0.3334\n",
      "it 16 : Jsur = 0.44448967895697433, J01 = 0.3334\n",
      "it 1 : Jsur = 0.44519801022834893, J01 = 0.3334\n",
      "it 2 : Jsur = 0.4446446679671232, J01 = 0.3334\n",
      "it 4 : Jsur = 0.4444915531451344, J01 = 0.3334\n",
      "it 8 : Jsur = 0.444492624146019, J01 = 0.3334\n",
      "it 16 : Jsur = 0.44448967895682645, J01 = 0.3334\n",
      "it 1 : Jsur = 0.44519801034199374, J01 = 0.3334\n",
      "it 2 : Jsur = 0.4446446679704324, J01 = 0.3334\n",
      "it 4 : Jsur = 0.44449155314671424, J01 = 0.3334\n",
      "it 8 : Jsur = 0.44449262414641827, J01 = 0.3334\n",
      "it 16 : Jsur = 0.444489678956857, J01 = 0.3334\n",
      "it 1 : Jsur = 0.44519801000999687, J01 = 0.3334\n",
      "it 2 : Jsur = 0.4446446679760362, J01 = 0.3334\n",
      "it 4 : Jsur = 0.44449155319176914, J01 = 0.3334\n",
      "it 8 : Jsur = 0.4444926241531503, J01 = 0.3334\n",
      "it 16 : Jsur = 0.44448967895605274, J01 = 0.3334\n",
      "it 1 : Jsur = 0.4451980098410264, J01 = 0.3334\n",
      "it 2 : Jsur = 0.4446446679266104, J01 = 0.3334\n",
      "it 4 : Jsur = 0.44449155311866545, J01 = 0.3334\n",
      "it 8 : Jsur = 0.4444926241423612, J01 = 0.3334\n",
      "it 16 : Jsur = 0.44448967895710867, J01 = 0.3334\n",
      "it 1 : Jsur = 0.4451980101780473, J01 = 0.3334\n",
      "it 2 : Jsur = 0.44464466793640023, J01 = 0.3334\n",
      "it 4 : Jsur = 0.44449155311468797, J01 = 0.3334\n",
      "it 8 : Jsur = 0.4444926241418597, J01 = 0.3334\n",
      "it 16 : Jsur = 0.4444896789571456, J01 = 0.3334\n",
      "it 1 : Jsur = 0.4451980101096793, J01 = 0.3334\n",
      "it 2 : Jsur = 0.44464466794070784, J01 = 0.3334\n",
      "it 4 : Jsur = 0.44449155312465255, J01 = 0.3334\n",
      "it 8 : Jsur = 0.4444926241432957, J01 = 0.3334\n",
      "it 16 : Jsur = 0.44448967895704444, J01 = 0.3334\n",
      "it 1 : Jsur = 0.44519801017597976, J01 = 0.3334\n",
      "it 2 : Jsur = 0.44464466798888225, J01 = 0.3334\n",
      "it 4 : Jsur = 0.44449155315542255, J01 = 0.3334\n",
      "it 8 : Jsur = 0.44449262414691193, J01 = 0.3334\n",
      "it 16 : Jsur = 0.4444896789567881, J01 = 0.3334\n",
      "it 1 : Jsur = 0.4451980103671391, J01 = 0.3334\n",
      "it 2 : Jsur = 0.4446446679906203, J01 = 0.3334\n",
      "it 4 : Jsur = 0.4444915531558001, J01 = 0.3334\n",
      "it 8 : Jsur = 0.4444926241471867, J01 = 0.3334\n",
      "it 16 : Jsur = 0.44448967895676744, J01 = 0.3334\n",
      "it 1 : Jsur = 0.445198011533099, J01 = 0.3334\n",
      "it 2 : Jsur = 0.4446446680306274, J01 = 0.3334\n",
      "it 4 : Jsur = 0.4444915531699254, J01 = 0.3334\n",
      "it 8 : Jsur = 0.444492624150093, J01 = 0.3334\n",
      "it 16 : Jsur = 0.4444896789565833, J01 = 0.3334\n",
      "it 1 : Jsur = 0.4451980098501777, J01 = 0.3334\n",
      "it 2 : Jsur = 0.4446446679245037, J01 = 0.3334\n",
      "it 4 : Jsur = 0.4444915531145209, J01 = 0.3334\n",
      "it 8 : Jsur = 0.444492624141735, J01 = 0.3334\n",
      "it 16 : Jsur = 0.4444896789571514, J01 = 0.3334\n",
      "it 1 : Jsur = 0.44519800991693154, J01 = 0.3334\n",
      "it 2 : Jsur = 0.4446446679280123, J01 = 0.3334\n",
      "it 4 : Jsur = 0.4444915531164805, J01 = 0.3334\n",
      "it 8 : Jsur = 0.4444926241420557, J01 = 0.3334\n",
      "it 16 : Jsur = 0.44448967895712993, J01 = 0.3334\n",
      "it 1 : Jsur = 0.4451980103101454, J01 = 0.3334\n",
      "it 2 : Jsur = 0.4446446679708338, J01 = 0.3334\n"
     ]
    },
    {
     "name": "stdout",
     "output_type": "stream",
     "text": [
      "it 4 : Jsur = 0.444491553135428, J01 = 0.3334\n",
      "it 8 : Jsur = 0.44449262414436125, J01 = 0.3334\n",
      "it 16 : Jsur = 0.44448967895696895, J01 = 0.3334\n",
      "it 1 : Jsur = 0.4451980101802593, J01 = 0.3334\n",
      "it 2 : Jsur = 0.4446446679313912, J01 = 0.3334\n",
      "it 4 : Jsur = 0.44449155313809025, J01 = 0.3334\n",
      "it 8 : Jsur = 0.4444926241460456, J01 = 0.3334\n",
      "it 16 : Jsur = 0.444489678956856, J01 = 0.3334\n",
      "it 1 : Jsur = 0.44519801002072507, J01 = 0.3334\n",
      "it 2 : Jsur = 0.4446446679573203, J01 = 0.3334\n",
      "it 4 : Jsur = 0.44449155319266503, J01 = 0.3334\n",
      "it 8 : Jsur = 0.4444926241543437, J01 = 0.3334\n",
      "it 16 : Jsur = 0.4444896789562932, J01 = 0.3334\n",
      "it 1 : Jsur = 0.4451980101539233, J01 = 0.3334\n",
      "it 2 : Jsur = 0.4446446679937772, J01 = 0.3334\n",
      "it 4 : Jsur = 0.44449155318768946, J01 = 0.3334\n",
      "it 8 : Jsur = 0.4444926241522724, J01 = 0.3334\n",
      "it 16 : Jsur = 0.44448967895642016, J01 = 0.3334\n"
     ]
    }
   ],
   "source": [
    "nodes_range = [2,4,8,12,16,24]\n",
    "layers_range = [1,2,4,6,8] # hidden layers\n",
    "tr_auc_4 = np.zeros(shape = (len(layers_range),len(nodes_range)))\n",
    "va_auc_4 = np.zeros(shape = (len(layers_range),len(nodes_range)))\n",
    "tr_auc_4, va_auc_4 = AUC_NN(Xt_red[:5000], Yt[:5000], Xva_red[:2000], Yva[:2000], nodes_range, layers_range)"
   ]
  },
  {
   "cell_type": "code",
   "execution_count": 507,
   "metadata": {},
   "outputs": [
    {
     "data": {
      "image/png": "[encoded data removed]",
      "text/plain": [
       "<matplotlib.figure.Figure at 0x11a2f1518>"
      ]
     },
     "metadata": {},
     "output_type": "display_data"
    }
   ],
   "source": [
    "# Now plot it\n",
    "f, ax = plt.subplots(1, 2, figsize=(15, 6))\n",
    "cax = ax[0].matshow(tr_auc_4, interpolation='nearest')\n",
    "f.colorbar(cax, ax = ax[0])\n",
    "ax[0].set_xlabel(\"numNodes\")\n",
    "ax[0].set_ylabel(\"numHiddenlayers\")\n",
    "ax[0].set_xticklabels(['']+ nodes_range)\n",
    "ax[0].set_yticklabels(['']+ layers_range)\n",
    "ax[0].set_title('Training data - AUC')\n",
    "\n",
    "dax = ax[1].matshow(va_auc_4, interpolation='nearest')\n",
    "f.colorbar(dax, ax = ax[1])\n",
    "ax[1].set_xlabel(\"numNodes\")\n",
    "ax[1].set_ylabel(\"numHiddenlayers\")\n",
    "ax[1].set_xticklabels(['']+nodes_range)\n",
    "ax[1].set_yticklabels(['']+ layers_range)\n",
    "ax[1].set_title('Validation data - AUC')\n",
    "\n",
    "plt.show()"
   ]
  },
  {
   "cell_type": "markdown",
   "metadata": {},
   "source": [
    "From the above plots (Validation data - AUC), we observe that highest AUC is observed at numHiddenlayers = 1 and numNodes = 16. This combination of parameters gives highest AUC in both train and validatio data. Hence, numHiddenlayers = 1 and numNodes = 16 would be the best parameters to choose. (There are other validation AUCs with higher values but are not chosen because of the discontinous behavior. This might have been caused based on the validation data set sampling. In any case, the AUC does not change much compared to the continous range near 1-layer 16-nodes)\n",
    "\n",
    "Also, we observe that, the next highest AUC is observed at numHiddenlayers = 2 and numNodesinHiddenLayer = 8. Therefore, a total number of 16 hidden nodes. We can conclude from these observations that, any of these parameters can be chosen.\n",
    "\n",
    "We also observe that, higher the number of layers, higher the numNodes per layer would increase AUC (and require many iterations and lower step size) and hence performance. But this leads to complex network and hence not chosen."
   ]
  },
  {
   "cell_type": "markdown",
   "metadata": {},
   "source": [
    "### PCA MLFFNN Conclusion:"
   ]
  },
  {
   "cell_type": "markdown",
   "metadata": {},
   "source": [
    "The above mentioned parameters of 16 nodes in 1 layer and 10 nodes in 2 layers are chosen as the best parameters.\n",
    "Based on these parameters, the whole of training data set is trained with PCA applied."
   ]
  },
  {
   "cell_type": "markdown",
   "metadata": {},
   "source": [
    "Interesting Observation:\n",
    "- The result of PCA utilized for Neural Networks tuning leads to almost the same model as concluded in Assignment 4 (without PCA and dimensionality reduction).\n",
    "- This indicates that, Neural Network model does not change with PCA/dimensionality reduction which implies\n",
    "    1. PCA did not effect on the overall prediction (classification/regression)\n",
    "    2. PCA can be done and then equivalent results can be achieved with significantly less amount of data (here, 10/14) are reduced."
   ]
  },
  {
   "cell_type": "markdown",
   "metadata": {},
   "source": [
    "Kaggle Team Name: Weder Praedictio Leaderboard AUC: 0.54354"
   ]
  }
 ],
 "metadata": {
  "kernelspec": {
   "display_name": "Python 3",
   "language": "python",
   "name": "python3"
  },
  "language_info": {
   "codemirror_mode": {
    "name": "ipython",
    "version": 3
   },
   "file_extension": ".py",
   "mimetype": "text/x-python",
   "name": "python",
   "nbconvert_exporter": "python",
   "pygments_lexer": "ipython3",
   "version": "3.6.2"
  }
 },
 "nbformat": 4,
 "nbformat_minor": 2
}
